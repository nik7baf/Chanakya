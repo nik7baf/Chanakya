{
  "nbformat": 4,
  "nbformat_minor": 0,
  "metadata": {
    "colab": {
      "provenance": []
    },
    "kernelspec": {
      "name": "python3",
      "display_name": "Python 3"
    },
    "language_info": {
      "name": "python"
    }
  },
  "cells": [
    {
      "cell_type": "code",
      "execution_count": null,
      "metadata": {
        "id": "YnvDrfO7bctJ"
      },
      "outputs": [],
      "source": [
        "import requests\n",
        "from bs4 import BeautifulSoup\n",
        "\n",
        "url = \"https://www.huddle01.com/docs\"\n",
        "\n",
        "# Make the request to the URL and retrieve the content\n",
        "response = requests.get(url)\n",
        "content = response.content\n",
        "\n",
        "# Use BeautifulSoup to parse the HTML content\n",
        "soup = BeautifulSoup(content, \"html.parser\")\n",
        "\n",
        "# Extract the text from all the elements on the page\n",
        "text = soup.get_text()\n",
        "\n",
        "# Find all the hyperlinks on the page\n",
        "links = [\"https://www.huddle01.com/docs\", \"https://www.huddle01.com/docs/sdk/introduction/sdk-overview\", \"https://www.huddle01.com/docs/sdk/getting-started/clone-sample-app\", \"https://www.huddle01.com/docs/sdk/getting-started/add-to-existing-project\",          \"https://www.huddle01.com/docs/sdk/getting-started/add-iframe\", \"https://www.huddle01.com/docs/sdk/major-concepts/architecture\", \"https://www.huddle01.com/docs/sdk/major-concepts/core-primitives\", \"https://www.huddle01.com/docs/sdk/web-sdk/architecture\", \"https://www.huddle01.com/docs/sdk/web-sdk/prerequisite\",          \"https://www.huddle01.com/docs/sdk/web-sdk/methods\", \"https://www.huddle01.com/docs/sdk/web-sdk/hooks/huddle01-hooks\", \"https://www.huddle01.com/docs/sdk/web-sdk/hooks/media-hooks\", \"https://www.huddle01.com/docs/sdk/web-sdk/hooks/peer-hooks\",          \"https://www.huddle01.com/docs/sdk/web-sdk/store-states/room-states\", \"https://www.huddle01.com/docs/sdk/web-sdk/store-states/me-states\", \"https://www.huddle01.com/docs/sdk/web-sdk/store-states/peer-states\",          \"https://www.huddle01.com/docs/sdk/web-sdk/store-states/cam-states\", \"https://www.huddle01.com/docs/sdk/web-sdk/store-states/mic-states\", \"https://www.huddle01.com/docs/sdk/web-sdk/store-states/chat-states\",          \"https://www.huddle01.com/docs/sdk/web-sdk/store-states/speaker-states\", \"https://www.huddle01.com/docs/sdk/web-sdk/store-states/network-states\", \"https://www.huddle01.com/docs/sdk/web-sdk/store-states/host-controls-states\",          \"https://www.huddle01.com/docs/sdk/web-sdk/sample-apps\", \"https://www.huddle01.com/docs/sdk/web-sdk/api-key\", \"https://www.huddle01.com/docs/sdk/huddle01-iframe\", \"https://www.huddle01.com/docs/sdk/faq\"]\n",
        "\n",
        "# Visit each hyperlink and extract its text\n",
        "link_texts = []\n",
        "for link in links:\n",
        "  link_response = requests.get(link)\n",
        "  link_content = link_response.content\n",
        "  link_soup = BeautifulSoup(link_content, \"html.parser\")\n",
        "  link_texts.append(link_soup.get_text())\n",
        "\n",
        "# Save the extracted text and hyperlink texts to a file\n",
        "with open(\"output.txt\", \"w\") as f:\n",
        "    f.write(\"\\nText:\\n\")\n",
        "    f.write(text)\n",
        "    f.write(\"\\nLink Texts:\\n\")\n",
        "    for link_text in link_texts:\n",
        "        f.write(f\"{link_text}\\n\")"
      ]
    }
  ]
}